{
 "cells": [
  {
   "cell_type": "code",
   "execution_count": null,
   "id": "b678185f",
   "metadata": {},
   "outputs": [],
   "source": [
    "require 'torch'\n",
    "require 'nn'\n",
    "require 'optim'\n",
    "\n",
    "\n",
    "csv2tensor = require 'csv2tensor'\n",
    "train_data = csv2tensor.load(\"MLB_1914_2014.csv\")\n",
    "test_data = csv2tensor.load(\"MLB_2015.csv\")\n",
    "model = nn.Sequential()\n",
    "model:add(nn.Linear(16, 1))\n",
    "criterion = nn.MSECriterion()\n",
    "x, dl_dx = model:getParameters()\n",
    "feval = function()\n",
    "_nidx_ = (_nidx_ or 0) + 1\n",
    "if _nidx_ > (#train_data)[1] then _nidx_ = 1 end\n",
    "\n",
    "local training_example = train_data[_nidx_]\n",
    "local target_value = training_example[{ {17} }]\n",
    "local inputs = training_example[{ {1,16} }]\n",
    "dl_dx:zero()\n",
    "local loss = criterion:forward(model:forward(inputs), target_value)\n",
    "model:backward(inputs, criterion:backward(model.output, target_value))\n",
    "return loss, dl_dx\n",
    "end\n",
    "sgd_params = {\n",
    "learningRate = 1e-8,\n",
    "}\n",
    "for i = 1,1e5 do\n",
    "current_loss = 0\n",
    "for i = 1, (#train_data)[1] do\n",
    "_,fs = optim.sgd(feval, x, sgd_params)\n",
    "current_loss = current_loss + fs[1]\n",
    "end\n",
    "current_loss = current_loss / (#data)[1]\n",
    "print(current_loss)\n",
    "end\n",
    "print ('PREDICTIONS FOR 2015')\n",
    "for i = 1, (#test_data)[1] do\n",
    "local pred = (model:forward(test_data[i][{{1,16}}]))\n",
    "print (pred[1])\n",
    "end"
   ]
  }
 ],
 "metadata": {
  "kernelspec": {
   "display_name": "Python 3 (ipykernel)",
   "language": "python",
   "name": "python3"
  },
  "language_info": {
   "codemirror_mode": {
    "name": "ipython",
    "version": 3
   },
   "file_extension": ".py",
   "mimetype": "text/x-python",
   "name": "python",
   "nbconvert_exporter": "python",
   "pygments_lexer": "ipython3",
   "version": "3.10.9"
  }
 },
 "nbformat": 4,
 "nbformat_minor": 5
}
